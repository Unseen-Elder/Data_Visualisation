{
 "cells": [
  {
   "cell_type": "markdown",
   "metadata": {},
   "source": [
    "# Markdown in Jupyter Notebook\n",
    "___"
   ]
  },
  {
   "cell_type": "markdown",
   "metadata": {},
   "source": [
    "## Headings\n",
    "# This is Heading 1\n",
    "## This is heading 2\n",
    "### This is heading 3\n",
    "#### This is heading 4\n",
    "##### This is heading 5\n",
    "###### This is heading 6\n",
    "___"
   ]
  },
  {
   "cell_type": "markdown",
   "metadata": {},
   "source": [
    "This is h1\n",
    "===========\n",
    "\n",
    "This is h2\n",
    "-----------\n",
    "This is h3\n",
    "___"
   ]
  },
  {
   "cell_type": "markdown",
   "metadata": {},
   "source": [
    "*This text is in italics.*\n",
    "\n",
    "_This text is also in italics._\n",
    "\n",
    "**This text is in bold.**\n",
    "\n",
    "__This text is also in bold.__\n",
    "\n",
    "***This text is in bold italics.***\n",
    "\n",
    "*__This text is also in bold italics.__*\n",
    "\n",
    "**_As is this!_**\n",
    "\n",
    "~~This text is rendered with strikethrough.~~\n",
    "___"
   ]
  },
  {
   "cell_type": "markdown",
   "metadata": {},
   "source": [
    "<!--Horizontal rule-->\n",
    "horizontal rule after this line\n",
    "\n",
    "---"
   ]
  },
  {
   "cell_type": "markdown",
   "metadata": {},
   "source": [
    "<!--Horizontal rule-->\n",
    "horizontal rule after this line\n",
    "___"
   ]
  },
  {
   "cell_type": "markdown",
   "metadata": {},
   "source": [
    "\\*This way we can escape special character\\*\n",
    "___"
   ]
  },
  {
   "cell_type": "markdown",
   "metadata": {},
   "source": [
    "This is a paragraph. I'm typing in a paragraph isn't this fun?\n",
    "\n",
    "Now I'm in paragraph 2.\n",
    "I'm still in paragraph 2 too!\n",
    "\n",
    "\n",
    "I'm in paragraph three!\n",
    "___"
   ]
  },
  {
   "cell_type": "markdown",
   "metadata": {},
   "source": [
    "> This is a block quote. You can either\n",
    "> manually wrap your lines and put a `>` before every line or you can let your lines get really long and wrap on their own.\n",
    "> It doesn't make a difference so long as they start with a `>`.\n",
    "\n",
    "> You can also use more than one level\n",
    ">> of indentation?\n",
    "> How neat is that?\n",
    "___"
   ]
  },
  {
   "cell_type": "markdown",
   "metadata": {},
   "source": [
    "Unordered lists can be made using asterisks, pluses, or hyphens."
   ]
  },
  {
   "cell_type": "markdown",
   "metadata": {},
   "source": [
    "* Item\n",
    "* Item\n",
    "* Another item\n",
    "\n",
    "or\n",
    "\n",
    "+ Item\n",
    "+ Item\n",
    "+ One more item\n",
    "\n",
    "or\n",
    "\n",
    "- Item\n",
    "- Item\n",
    "- One last item\n",
    "___"
   ]
  },
  {
   "cell_type": "markdown",
   "metadata": {},
   "source": [
    "Ordered lists are done with a number followed by a period."
   ]
  },
  {
   "cell_type": "markdown",
   "metadata": {},
   "source": [
    "1. Item one\n",
    "2. Item two\n",
    "3. Item three\n",
    "___"
   ]
  },
  {
   "cell_type": "markdown",
   "metadata": {},
   "source": [
    "You don’t even have to label the items correctly and Markdown will still render the numbers in order, but this may not be a good idea."
   ]
  },
  {
   "cell_type": "markdown",
   "metadata": {},
   "source": [
    "1. Item one\n",
    "1. Item two\n",
    "1. Item three\n",
    "___"
   ]
  },
  {
   "cell_type": "markdown",
   "metadata": {},
   "source": [
    "You can also use sublists."
   ]
  },
  {
   "cell_type": "markdown",
   "metadata": {},
   "source": [
    "1. Item one\n",
    "2. Item two\n",
    "3. Item three\n",
    "    * Sub-item\n",
    "    * Sub-item\n",
    "4. Item four\n",
    "    1. Sub item\n",
    "    2. Sub item\n",
    "___"
   ]
  },
  {
   "cell_type": "markdown",
   "metadata": {},
   "source": [
    "One of the best things about markdown is how easy it is to make links. Put the text to display in hard brackets [] followed by the url in parentheses ()"
   ]
  },
  {
   "cell_type": "markdown",
   "metadata": {},
   "source": [
    "[This is a link to youtube.com](http://youtube.com/)"
   ]
  },
  {
   "cell_type": "markdown",
   "metadata": {},
   "source": [
    "[if you hover on this link, you will see the title of link](http://youtube.com/ \"This is the title of link\")\n",
    "\n",
    "---"
   ]
  },
  {
   "cell_type": "markdown",
   "metadata": {},
   "source": [
    "belown is an image"
   ]
  },
  {
   "cell_type": "markdown",
   "metadata": {},
   "source": [
    "![amazon logo image](https://i.imgur.com/yNjKszW.jpeg)\n",
    "\n",
    "---"
   ]
  },
  {
   "cell_type": "markdown",
   "metadata": {},
   "source": [
    "[Click this link][link1] for more info about it!\n",
    "[Also check out this link][foobar] if you want to.\n",
    "\n",
    "[link1]: http://youtube.com/ \"Cool!\"\n",
    "[foobar]: http://youtube.biz/ \"Alright!\"\n",
    "\n",
    "---"
   ]
  },
  {
   "cell_type": "markdown",
   "metadata": {},
   "source": [
    "Tables are only available in GitHub Flavored Markdown and are slightly cumbersome :"
   ]
  },
  {
   "cell_type": "markdown",
   "metadata": {},
   "source": [
    "| Col1         | Col2     | Col3          |\n",
    "| :----------- | :------: | ------------: |\n",
    "| Left-aligned | Centered | Right-aligned |\n",
    "| blah         | blah     | blah          |"
   ]
  },
  {
   "cell_type": "markdown",
   "metadata": {},
   "source": [
    "or, for the same results"
   ]
  },
  {
   "cell_type": "markdown",
   "metadata": {},
   "source": [
    "Column 1 | Column 2 | Column 3\n",
    ":-- | :-: | --:\n",
    "Ugh this is so ugly | make it | stop"
   ]
  },
  {
   "cell_type": "markdown",
   "metadata": {},
   "source": [
    "by default it is left aligned"
   ]
  },
  {
   "cell_type": "markdown",
   "metadata": {},
   "source": [
    "| Column 1     | Column 2 | Column 3      |\n",
    "| ------------ | -------- | ------------- |\n",
    "| blah         | blah     | blah          |\n",
    "\n",
    "---"
   ]
  },
  {
   "cell_type": "markdown",
   "metadata": {},
   "source": [
    "Below is codeblock"
   ]
  },
  {
   "cell_type": "markdown",
   "metadata": {},
   "source": [
    "<!-- function specif code blocks-->\n",
    "\n",
    "```javascript\n",
    "function add(num1,num2){\n",
    "    return num1 + num2;\n",
    "}\n",
    "```"
   ]
  },
  {
   "cell_type": "markdown",
   "metadata": {},
   "source": [
    "```python\n",
    "def add(num1,num2):\n",
    "    return num1 + num2\n",
    "```\n",
    "\n",
    "---"
   ]
  }
 ],
 "metadata": {
  "kernelspec": {
   "display_name": "Python 3.10.6 64-bit",
   "language": "python",
   "name": "python3"
  },
  "language_info": {
   "name": "python",
   "version": "3.10.6"
  },
  "orig_nbformat": 4,
  "vscode": {
   "interpreter": {
    "hash": "387a55f1e86e20fa8f00d1ae0aa2d5c1e5c7fc1faf446b56ecfd0491be0d2a5e"
   }
  }
 },
 "nbformat": 4,
 "nbformat_minor": 2
}
